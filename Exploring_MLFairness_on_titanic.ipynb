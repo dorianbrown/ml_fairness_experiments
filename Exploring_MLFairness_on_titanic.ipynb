{
 "cells": [
  {
   "cell_type": "markdown",
   "metadata": {},
   "source": [
    "# Exploring ML Fairness Concepts on the Titanic Dataset"
   ]
  },
  {
   "cell_type": "code",
   "execution_count": null,
   "metadata": {},
   "outputs": [],
   "source": [
    "%load_ext autoreload\n",
    "%autoreload 2\n",
    "\n",
    "import numpy as np\n",
    "import seaborn as sns\n",
    "import pandas as pd\n",
    "\n",
    "%matplotlib notebook"
   ]
  },
  {
   "cell_type": "code",
   "execution_count": null,
   "metadata": {},
   "outputs": [],
   "source": [
    "titanic_df = sns.load_dataset('titanic')"
   ]
  },
  {
   "cell_type": "code",
   "execution_count": null,
   "metadata": {},
   "outputs": [],
   "source": [
    "import pandas_profiling\n",
    "# titanic_df.profile_report()"
   ]
  },
  {
   "cell_type": "code",
   "execution_count": null,
   "metadata": {},
   "outputs": [],
   "source": [
    "from titanic_pipeline import preprocess_data, create_classifier, evaluate_model\n",
    "\n",
    "X_train, X_test, y_train, y_test = preprocess_data(titanic_df)\n",
    "\n",
    "clf = create_classifier()\n",
    "clf.fit(X_train, y_train)\n",
    "evaluate_model(X_test, y_test, clf)"
   ]
  },
  {
   "cell_type": "markdown",
   "metadata": {},
   "source": [
    "## Evaluating Male Population"
   ]
  },
  {
   "cell_type": "code",
   "execution_count": null,
   "metadata": {},
   "outputs": [],
   "source": [
    "male_ind = X_test[\"sex\"] == \"male\"\n",
    "evaluate_model(X_test.loc[male_ind], y_test[male_ind], clf)"
   ]
  },
  {
   "cell_type": "markdown",
   "metadata": {},
   "source": [
    "## Evaluating Female Population"
   ]
  },
  {
   "cell_type": "code",
   "execution_count": null,
   "metadata": {},
   "outputs": [],
   "source": [
    "evaluate_model(X_test.loc[~male_ind], y_test[~male_ind], clf)"
   ]
  },
  {
   "cell_type": "markdown",
   "metadata": {},
   "source": [
    "# Observational Metrics\n",
    "\n",
    "Here we want to look at the observational fairness metrics, namely\n",
    "\n",
    "### Equalised Odds\n",
    "\n",
    "For all $a, a'$ and all $y$ we have \n",
    "$$P(\\hat{Y} = y | A = a, Y = y) = P(\\hat{Y} = y | A = a', Y = y)$$\n",
    "\n",
    "> Translation: TP rates and TN rates are both equal over sensitive groups\n",
    "\n",
    "### Calibration\n",
    "\n",
    "For all $y$ and $a, a'$ we have\n",
    "$$P(Y = y | A = a, \\hat{Y} = y) = P(Y = y | A = a', \\hat{Y} = y)$$\n",
    "\n",
    "> We want the accuracy of the prediction (both positive/negative) to be equal over sensitive groups\n",
    "\n",
    "### Demographic Parity/Disparate Impact\n",
    "\n",
    "For all $y, a, a'$ we have\n",
    "$$ P(\\hat{Y} = y | A = a) = P(\\hat{Y} = y | A = a')$$\n",
    "\n",
    "> We want the distribution of predicted outcomes to be equal over sensitive groups\n",
    "\n",
    "### Individual Fairness\n",
    "We'll skip this due to difficulty choosing a proper metric for judging the similarity of two individuals.\n",
    "\n",
    "> We want similar individuals from different groups to be treated equally.\n"
   ]
  },
  {
   "cell_type": "code",
   "execution_count": null,
   "metadata": {},
   "outputs": [],
   "source": [
    "from fairness_metrics import eqaualised_odds, calibration, demographic_parity\n",
    "        \n",
    "eqaualised_odds(X_test, y_test, clf, \"sex\")\n",
    "# TODO: Plot graph for different thresholds"
   ]
  },
  {
   "cell_type": "code",
   "execution_count": null,
   "metadata": {},
   "outputs": [],
   "source": [
    "calibration(X_test, y_test, clf, \"sex\")"
   ]
  },
  {
   "cell_type": "code",
   "execution_count": null,
   "metadata": {},
   "outputs": [],
   "source": [
    "demographic_parity(X_test, clf, \"sex\")"
   ]
  },
  {
   "cell_type": "markdown",
   "metadata": {},
   "source": [
    "## Logistic Regression"
   ]
  },
  {
   "cell_type": "code",
   "execution_count": null,
   "metadata": {
    "scrolled": false
   },
   "outputs": [],
   "source": [
    "import statsmodels.formula.api as sm\n",
    "from titanic_manual import Evaluate, ManualPreprocess, ConsistentIndex, CreateInput\n",
    "\n",
    "# Load dataset\n",
    "titanic_df = sns.load_dataset('titanic')\n",
    "X_train, y_train, X_test, y_test = ManualPreprocess(titanic_df)\n",
    "\n",
    "\n",
    "mod = sm.Logit(y_train, X_train)\n",
    "res = mod.fit()\n",
    "# print(res.summary()) # show results\n",
    "y_test_pred = res.predict(X_test)\n",
    "\n",
    "Evaluate(y_test, y_test_pred)\n"
   ]
  },
  {
   "cell_type": "code",
   "execution_count": null,
   "metadata": {},
   "outputs": [],
   "source": []
  }
 ],
 "metadata": {
  "kernelspec": {
   "display_name": "deepenv",
   "language": "python",
   "name": "deepenv"
  },
  "language_info": {
   "codemirror_mode": {
    "name": "ipython",
    "version": 3
   },
   "file_extension": ".py",
   "mimetype": "text/x-python",
   "name": "python",
   "nbconvert_exporter": "python",
   "pygments_lexer": "ipython3",
   "version": "3.7.4"
  }
 },
 "nbformat": 4,
 "nbformat_minor": 2
}
